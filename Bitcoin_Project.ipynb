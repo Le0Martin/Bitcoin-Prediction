{
 "cells": [
  {
   "cell_type": "markdown",
   "metadata": {},
   "source": [
    "# <font color='#0000CD'>Predicting Bitcoin Price in Real-Time with PySpark and Machine Learning</font>\n",
    "\n",
    "### Model Goal: use historical data to train a Machine Learning model capable of predicting Bitcoin prices in real-time from new input data\n",
    "\n",
    "* Included Records:\n",
    " * **OHLC (Open, High, Low, Close):** Represent the opening, highest, lowest, and closing daily prices of Bitcoin.\n",
    " * **Volume in BTC and Volume in USD:** Indicate the amount of Bitcoin traded and the corresponding volume in dollars.\n",
    " * **Weighted Price:** The weighted average of trading prices.\n",
    " * **Timestamp:** Date/Time in Unix format\n",
    " \n",
    "#### Time Range: From 2011 to 2021, excluding the year 2022 due to its atypical nature.\n",
    "\n",
    "#### The data can be found here:[dataset](https://bitcoincharts.com/charts/)"
   ]
  },
  {
   "cell_type": "code",
   "execution_count": 1,
   "metadata": {},
   "outputs": [
    {
     "name": "stdout",
     "output_type": "stream",
     "text": [
      "Python version: 3.9.7\n"
     ]
    }
   ],
   "source": [
    "# Python version\n",
    "from platform import python_version\n",
    "print('Python version:', python_version())"
   ]
  },
  {
   "cell_type": "code",
   "execution_count": 2,
   "metadata": {},
   "outputs": [],
   "source": [
    "!pip install -q findspark"
   ]
  },
  {
   "cell_type": "code",
   "execution_count": 3,
   "metadata": {},
   "outputs": [],
   "source": [
    "# Initialize pyspark\n",
    "import findspark\n",
    "findspark.init() "
   ]
  },
  {
   "cell_type": "code",
   "execution_count": 4,
   "metadata": {
    "id": "CPDsD_yhZrO1"
   },
   "outputs": [],
   "source": [
    "# Imports\n",
    "import pyspark\n",
    "import pandas as pd\n",
    "import numpy as np\n",
    "import seaborn as sns\n",
    "from matplotlib import pyplot as plt\n",
    "from pyspark import SparkConf, SparkContext\n",
    "from pyspark.sql import SparkSession, SQLContext\n",
    "from pyspark.sql.types import *\n",
    "from pyspark.sql.functions import *\n",
    "from pyspark.ml.linalg import Vectors\n",
    "from pyspark.ml.feature import StringIndexer\n",
    "from pyspark.ml.regression import LinearRegression\n",
    "from pyspark.mllib.evaluation import RegressionMetrics\n",
    "from pyspark.ml.linalg import Vectors\n",
    "from pyspark.ml.feature import StringIndexer\n",
    "from pyspark.ml.stat import Correlation\n",
    "from pyspark.ml.feature import MinMaxScaler\n",
    "from pyspark.ml.feature import VectorAssembler\n",
    "from pyspark.ml import Pipeline\n",
    "from pyspark.ml.tuning import ParamGridBuilder, CrossValidator, CrossValidatorModel\n",
    "from pyspark.ml.feature import VectorAssembler, StandardScaler\n",
    "from pyspark.ml.evaluation import RegressionEvaluator"
   ]
  },
  {
   "cell_type": "code",
   "execution_count": 5,
   "metadata": {},
   "outputs": [],
   "source": [
    "# Output formatting\n",
    "pd.set_option('display.max_columns', 200)\n",
    "pd.set_option('display.max_colwidth', 400)\n",
    "from matplotlib.axes._axes import _log as matplotlib_axes_logger\n",
    "matplotlib_axes_logger.setLevel('ERROR')"
   ]
  },
  {
   "cell_type": "code",
   "execution_count": 6,
   "metadata": {},
   "outputs": [],
   "source": [
    "from pyspark.sql import SparkSession\n",
    "\n",
    "spark = SparkSession.builder \\\n",
    "    .master('local[*]') \\\n",
    "    .config(\"spark.driver.memory\", \"15g\") \\\n",
    "    .appName('Bitcoint_Project') \\\n",
    "    .getOrCreate()"
   ]
  },
  {
   "cell_type": "markdown",
   "metadata": {},
   "source": [
    "## Preparing the Spark Environment"
   ]
  },
  {
   "cell_type": "code",
   "execution_count": 7,
   "metadata": {
    "id": "eeFpjeqJZ6Nf"
   },
   "outputs": [],
   "source": [
    "# Defining random seed for notebook reproducibility\n",
    "rnd_seed = 23\n",
    "np.random.seed = rnd_seed\n",
    "np.random.set_state = rnd_seed"
   ]
  },
  {
   "cell_type": "code",
   "execution_count": 8,
   "metadata": {
    "id": "BQTuvaMhKkrK"
   },
   "outputs": [],
   "source": [
    "# Creating Spark Context\n",
    "sc = SparkContext.getOrCreate()"
   ]
  },
  {
   "cell_type": "code",
   "execution_count": 9,
   "metadata": {},
   "outputs": [],
   "source": [
    "# Creating Spark Session\n",
    "spark_session = SparkSession.Builder().getOrCreate()"
   ]
  },
  {
   "cell_type": "code",
   "execution_count": 10,
   "metadata": {
    "colab": {
     "base_uri": "https://localhost:8080/",
     "height": 219
    },
    "id": "Ec8oNb8qK6Pm",
    "outputId": "1653edd4-1ee3-41fa-d53c-6fe717b0aac5"
   },
   "outputs": [
    {
     "data": {
      "text/html": [
       "\n",
       "            <div>\n",
       "                <p><b>SparkSession - in-memory</b></p>\n",
       "                \n",
       "        <div>\n",
       "            <p><b>SparkContext</b></p>\n",
       "\n",
       "            <p><a href=\"http://localhost:4041\">Spark UI</a></p>\n",
       "\n",
       "            <dl>\n",
       "              <dt>Version</dt>\n",
       "                <dd><code>v3.3.2</code></dd>\n",
       "              <dt>Master</dt>\n",
       "                <dd><code>local[*]</code></dd>\n",
       "              <dt>AppName</dt>\n",
       "                <dd><code>Bitcoint_Project</code></dd>\n",
       "            </dl>\n",
       "        </div>\n",
       "        \n",
       "            </div>\n",
       "        "
      ],
      "text/plain": [
       "<pyspark.sql.session.SparkSession at 0x1ee8ac32400>"
      ]
     },
     "execution_count": 10,
     "metadata": {},
     "output_type": "execute_result"
    }
   ],
   "source": [
    "spark_session"
   ]
  },
  {
   "cell_type": "markdown",
   "metadata": {},
   "source": [
    "## Loading the Dataset"
   ]
  },
  {
   "cell_type": "code",
   "execution_count": 11,
   "metadata": {
    "id": "MrRYMdxGM2SJ"
   },
   "outputs": [],
   "source": [
    "df_spark = spark_session.read.csv('data/dataset.csv', header = 'true', inferSchema = 'true')"
   ]
  },
  {
   "cell_type": "code",
   "execution_count": 12,
   "metadata": {},
   "outputs": [
    {
     "data": {
      "text/plain": [
       "pyspark.sql.dataframe.DataFrame"
      ]
     },
     "execution_count": 12,
     "metadata": {},
     "output_type": "execute_result"
    }
   ],
   "source": [
    "# Object type\n",
    "type(df_spark)"
   ]
  },
  {
   "cell_type": "code",
   "execution_count": 13,
   "metadata": {
    "colab": {
     "base_uri": "https://localhost:8080/"
    },
    "id": "9COe3UZhO0D5",
    "outputId": "dfd48aee-686c-4ec5-8892-214e16a64c72"
   },
   "outputs": [
    {
     "name": "stdout",
     "output_type": "stream",
     "text": [
      "+----------+----+----+----+-----+------------+-----------------+--------------+\n",
      "| Timestamp|Open|High| Low|Close|Volume_(BTC)|Volume_(Currency)|Weighted_Price|\n",
      "+----------+----+----+----+-----+------------+-----------------+--------------+\n",
      "|1325317920|4.39|4.39|4.39| 4.39|  0.45558087|     2.0000000193|          4.39|\n",
      "|1325319300| NaN| NaN| NaN|  NaN|         NaN|              NaN|           NaN|\n",
      "|1325319360| NaN| NaN| NaN|  NaN|         NaN|              NaN|           NaN|\n",
      "|1325319420| NaN| NaN| NaN|  NaN|         NaN|              NaN|           NaN|\n",
      "|1325319480| NaN| NaN| NaN|  NaN|         NaN|              NaN|           NaN|\n",
      "|1325319540| NaN| NaN| NaN|  NaN|         NaN|              NaN|           NaN|\n",
      "|1325319600| NaN| NaN| NaN|  NaN|         NaN|              NaN|           NaN|\n",
      "|1325319660| NaN| NaN| NaN|  NaN|         NaN|              NaN|           NaN|\n",
      "|1325345040| NaN| NaN| NaN|  NaN|         NaN|              NaN|           NaN|\n",
      "|1325345100| NaN| NaN| NaN|  NaN|         NaN|              NaN|           NaN|\n",
      "|1325345160| NaN| NaN| NaN|  NaN|         NaN|              NaN|           NaN|\n",
      "|1325345220| NaN| NaN| NaN|  NaN|         NaN|              NaN|           NaN|\n",
      "|1325345280| NaN| NaN| NaN|  NaN|         NaN|              NaN|           NaN|\n",
      "|1325345340| NaN| NaN| NaN|  NaN|         NaN|              NaN|           NaN|\n",
      "|1325345400| NaN| NaN| NaN|  NaN|         NaN|              NaN|           NaN|\n",
      "|1325345460| NaN| NaN| NaN|  NaN|         NaN|              NaN|           NaN|\n",
      "|1325345520| NaN| NaN| NaN|  NaN|         NaN|              NaN|           NaN|\n",
      "|1325345580| NaN| NaN| NaN|  NaN|         NaN|              NaN|           NaN|\n",
      "|1325345640| NaN| NaN| NaN|  NaN|         NaN|              NaN|           NaN|\n",
      "|1325345700| NaN| NaN| NaN|  NaN|         NaN|              NaN|           NaN|\n",
      "+----------+----+----+----+-----+------------+-----------------+--------------+\n",
      "only showing top 20 rows\n",
      "\n"
     ]
    }
   ],
   "source": [
    "df_spark.show()"
   ]
  },
  {
   "cell_type": "code",
   "execution_count": 14,
   "metadata": {
    "colab": {
     "base_uri": "https://localhost:8080/"
    },
    "id": "lLR1WMTfO42i",
    "outputId": "e98a0c8d-550b-46af-eb84-9670cec7fd14"
   },
   "outputs": [
    {
     "name": "stdout",
     "output_type": "stream",
     "text": [
      "root\n",
      " |-- Timestamp: integer (nullable = true)\n",
      " |-- Open: double (nullable = true)\n",
      " |-- High: double (nullable = true)\n",
      " |-- Low: double (nullable = true)\n",
      " |-- Close: double (nullable = true)\n",
      " |-- Volume_(BTC): double (nullable = true)\n",
      " |-- Volume_(Currency): double (nullable = true)\n",
      " |-- Weighted_Price: double (nullable = true)\n",
      "\n"
     ]
    }
   ],
   "source": [
    "# Visualize metadata (schema)\n",
    "df_spark.printSchema()"
   ]
  },
  {
   "cell_type": "code",
   "execution_count": 15,
   "metadata": {
    "colab": {
     "base_uri": "https://localhost:8080/"
    },
    "id": "sBjjtJ9kO-fO",
    "outputId": "cff87ea9-d91d-43ea-f30b-3b97990e55d2"
   },
   "outputs": [
    {
     "data": {
      "text/plain": [
       "4856600"
      ]
     },
     "execution_count": 15,
     "metadata": {},
     "output_type": "execute_result"
    }
   ],
   "source": [
    "df_spark.count()"
   ]
  },
  {
   "cell_type": "markdown",
   "metadata": {},
   "source": [
    "## Data Wrangling with SparkSQL"
   ]
  },
  {
   "cell_type": "code",
   "execution_count": 16,
   "metadata": {},
   "outputs": [],
   "source": [
    "# Create a temporary table from the dataframe\n",
    "# Temporary tables are used so that the result set is visible for all other Spark sessions\n",
    "df_spark.createOrReplaceTempView('bitcoin_data') "
   ]
  },
  {
   "cell_type": "code",
   "execution_count": 17,
   "metadata": {},
   "outputs": [],
   "source": [
    "# SQL function\n",
    "df_bitcoin = spark_session.sql(\"select *, from_unixtime(Timestamp) as `dateTime` from bitcoin_data\")"
   ]
  },
  {
   "cell_type": "code",
   "execution_count": 18,
   "metadata": {},
   "outputs": [
    {
     "data": {
      "text/plain": [
       "pyspark.sql.dataframe.DataFrame"
      ]
     },
     "execution_count": 18,
     "metadata": {},
     "output_type": "execute_result"
    }
   ],
   "source": [
    "type(df_bitcoin)"
   ]
  },
  {
   "cell_type": "code",
   "execution_count": 19,
   "metadata": {},
   "outputs": [
    {
     "name": "stdout",
     "output_type": "stream",
     "text": [
      "+----------+----+----+----+-----+------------+-----------------+--------------+-------------------+\n",
      "| Timestamp|Open|High| Low|Close|Volume_(BTC)|Volume_(Currency)|Weighted_Price|           dateTime|\n",
      "+----------+----+----+----+-----+------------+-----------------+--------------+-------------------+\n",
      "|1325317920|4.39|4.39|4.39| 4.39|  0.45558087|     2.0000000193|          4.39|2011-12-31 05:52:00|\n",
      "|1325319300| NaN| NaN| NaN|  NaN|         NaN|              NaN|           NaN|2011-12-31 06:15:00|\n",
      "|1325319360| NaN| NaN| NaN|  NaN|         NaN|              NaN|           NaN|2011-12-31 06:16:00|\n",
      "|1325319420| NaN| NaN| NaN|  NaN|         NaN|              NaN|           NaN|2011-12-31 06:17:00|\n",
      "|1325319480| NaN| NaN| NaN|  NaN|         NaN|              NaN|           NaN|2011-12-31 06:18:00|\n",
      "|1325319540| NaN| NaN| NaN|  NaN|         NaN|              NaN|           NaN|2011-12-31 06:19:00|\n",
      "|1325319600| NaN| NaN| NaN|  NaN|         NaN|              NaN|           NaN|2011-12-31 06:20:00|\n",
      "|1325319660| NaN| NaN| NaN|  NaN|         NaN|              NaN|           NaN|2011-12-31 06:21:00|\n",
      "|1325345040| NaN| NaN| NaN|  NaN|         NaN|              NaN|           NaN|2011-12-31 13:24:00|\n",
      "|1325345100| NaN| NaN| NaN|  NaN|         NaN|              NaN|           NaN|2011-12-31 13:25:00|\n",
      "|1325345160| NaN| NaN| NaN|  NaN|         NaN|              NaN|           NaN|2011-12-31 13:26:00|\n",
      "|1325345220| NaN| NaN| NaN|  NaN|         NaN|              NaN|           NaN|2011-12-31 13:27:00|\n",
      "|1325345280| NaN| NaN| NaN|  NaN|         NaN|              NaN|           NaN|2011-12-31 13:28:00|\n",
      "|1325345340| NaN| NaN| NaN|  NaN|         NaN|              NaN|           NaN|2011-12-31 13:29:00|\n",
      "|1325345400| NaN| NaN| NaN|  NaN|         NaN|              NaN|           NaN|2011-12-31 13:30:00|\n",
      "|1325345460| NaN| NaN| NaN|  NaN|         NaN|              NaN|           NaN|2011-12-31 13:31:00|\n",
      "|1325345520| NaN| NaN| NaN|  NaN|         NaN|              NaN|           NaN|2011-12-31 13:32:00|\n",
      "|1325345580| NaN| NaN| NaN|  NaN|         NaN|              NaN|           NaN|2011-12-31 13:33:00|\n",
      "|1325345640| NaN| NaN| NaN|  NaN|         NaN|              NaN|           NaN|2011-12-31 13:34:00|\n",
      "|1325345700| NaN| NaN| NaN|  NaN|         NaN|              NaN|           NaN|2011-12-31 13:35:00|\n",
      "+----------+----+----+----+-----+------------+-----------------+--------------+-------------------+\n",
      "only showing top 20 rows\n",
      "\n"
     ]
    }
   ],
   "source": [
    "df_bitcoin.show()"
   ]
  },
  {
   "cell_type": "code",
   "execution_count": 20,
   "metadata": {},
   "outputs": [],
   "source": [
    "# Removing NA values (there is no sense in any treatment here, as all quote columns are as NA)\n",
    "df_bitcoin = df_bitcoin.dropna('any')"
   ]
  },
  {
   "cell_type": "code",
   "execution_count": 21,
   "metadata": {
    "colab": {
     "base_uri": "https://localhost:8080/"
    },
    "id": "c7KBfhd_PwhO",
    "outputId": "33543c38-656e-4822-da97-9ba900cc69a0"
   },
   "outputs": [
    {
     "name": "stdout",
     "output_type": "stream",
     "text": [
      "+----------+----+----+----+-----+------------+-----------------+--------------+-------------------+\n",
      "| Timestamp|Open|High| Low|Close|Volume_(BTC)|Volume_(Currency)|Weighted_Price|           dateTime|\n",
      "+----------+----+----+----+-----+------------+-----------------+--------------+-------------------+\n",
      "|1325317920|4.39|4.39|4.39| 4.39|  0.45558087|     2.0000000193|          4.39|2011-12-31 05:52:00|\n",
      "|1325346600|4.39|4.39|4.39| 4.39|        48.0|           210.72|          4.39|2011-12-31 13:50:00|\n",
      "|1325350740| 4.5|4.57| 4.5| 4.57| 37.86229723|     171.38033753|  4.5264114983|2011-12-31 14:59:00|\n",
      "|1325350800|4.58|4.58|4.58| 4.58|         9.0|            41.22|          4.58|2011-12-31 15:00:00|\n",
      "|1325391360|4.58|4.58|4.58| 4.58|       1.502|          6.87916|          4.58|2012-01-01 02:16:00|\n",
      "|1325431680|4.84|4.84|4.84| 4.84|        10.0|             48.4|          4.84|2012-01-01 13:28:00|\n",
      "|1325457900| 5.0| 5.0| 5.0|  5.0|        10.1|             50.5|           5.0|2012-01-01 20:45:00|\n",
      "|1325534640| 5.0| 5.0| 5.0|  5.0|      19.048|            95.24|           5.0|2012-01-02 18:04:00|\n",
      "|1325591100|5.32|5.32|5.32| 5.32|  2.41917293|     12.869999988|          5.32|2012-01-03 09:45:00|\n",
      "|1325600520|5.14|5.14|5.14| 5.14|        0.68|           3.4952|          5.14|2012-01-03 12:22:00|\n",
      "|1325602440|5.26|5.26|5.26| 5.26| 29.31939163|     154.21999997|          5.26|2012-01-03 12:54:00|\n",
      "|1325604720|5.29|5.29|5.29| 5.29| 29.30245747|     155.01000002|          5.29|2012-01-03 13:32:00|\n",
      "|1325610600|5.29|5.29|5.29| 5.29| 11.28544423|     59.699999977|          5.29|2012-01-03 15:10:00|\n",
      "|1325610840|5.14|5.14|5.14| 5.14|        0.02|           0.1028|          5.14|2012-01-03 15:14:00|\n",
      "|1325611560|5.29|5.29|5.29| 5.29|        11.0|            58.19|          5.29|2012-01-03 15:26:00|\n",
      "|1325611620|5.29|5.29|5.29| 5.29|  4.01081466|     21.217209551|          5.29|2012-01-03 15:27:00|\n",
      "|1325650620|4.93|4.93|4.93| 4.93|        2.32|          11.4376|          4.93|2012-01-04 02:17:00|\n",
      "|1325653500|4.93|4.93|4.93| 4.93|        9.68|          47.7224|          4.93|2012-01-04 03:05:00|\n",
      "|1325680860|5.19|5.19|5.19| 5.19|   2.6416185|     13.710000015|          5.19|2012-01-04 10:41:00|\n",
      "|1325681820|5.19|5.19|5.19| 5.19|  8.72447013|     45.279999975|          5.19|2012-01-04 10:57:00|\n",
      "+----------+----+----+----+-----+------------+-----------------+--------------+-------------------+\n",
      "only showing top 20 rows\n",
      "\n"
     ]
    }
   ],
   "source": [
    "df_bitcoin.show()"
   ]
  },
  {
   "cell_type": "code",
   "execution_count": 22,
   "metadata": {
    "colab": {
     "base_uri": "https://localhost:8080/"
    },
    "id": "OVDc9h7hQQF0",
    "outputId": "ebb4fde5-9789-461c-8c98-bb5613fd979f"
   },
   "outputs": [
    {
     "data": {
      "text/plain": [
       "3613769"
      ]
     },
     "execution_count": 22,
     "metadata": {},
     "output_type": "execute_result"
    }
   ],
   "source": [
    "df_bitcoin.count()"
   ]
  },
  {
   "cell_type": "code",
   "execution_count": 23,
   "metadata": {
    "id": "hOc0tS4IRAl9"
   },
   "outputs": [],
   "source": [
    "# Renaming columns for easier manipulation\n",
    "df_bitcoin = df_bitcoin.withColumnRenamed(\"Volume_(BTC)\", \"VolBTC\").withColumnRenamed(\"Volume_(Currency)\", \"VolCurrency\")"
   ]
  },
  {
   "cell_type": "code",
   "execution_count": 24,
   "metadata": {
    "colab": {
     "base_uri": "https://localhost:8080/"
    },
    "id": "gASzkA4nRNl3",
    "outputId": "4dde2d5a-4ef4-48bb-c21d-0a03fd45a00a"
   },
   "outputs": [
    {
     "name": "stdout",
     "output_type": "stream",
     "text": [
      "+----------+----+----+----+-----+-----------+------------+--------------+-------------------+\n",
      "| Timestamp|Open|High| Low|Close|     VolBTC| VolCurrency|Weighted_Price|           dateTime|\n",
      "+----------+----+----+----+-----+-----------+------------+--------------+-------------------+\n",
      "|1325317920|4.39|4.39|4.39| 4.39| 0.45558087|2.0000000193|          4.39|2011-12-31 05:52:00|\n",
      "|1325346600|4.39|4.39|4.39| 4.39|       48.0|      210.72|          4.39|2011-12-31 13:50:00|\n",
      "|1325350740| 4.5|4.57| 4.5| 4.57|37.86229723|171.38033753|  4.5264114983|2011-12-31 14:59:00|\n",
      "|1325350800|4.58|4.58|4.58| 4.58|        9.0|       41.22|          4.58|2011-12-31 15:00:00|\n",
      "|1325391360|4.58|4.58|4.58| 4.58|      1.502|     6.87916|          4.58|2012-01-01 02:16:00|\n",
      "|1325431680|4.84|4.84|4.84| 4.84|       10.0|        48.4|          4.84|2012-01-01 13:28:00|\n",
      "|1325457900| 5.0| 5.0| 5.0|  5.0|       10.1|        50.5|           5.0|2012-01-01 20:45:00|\n",
      "|1325534640| 5.0| 5.0| 5.0|  5.0|     19.048|       95.24|           5.0|2012-01-02 18:04:00|\n",
      "|1325591100|5.32|5.32|5.32| 5.32| 2.41917293|12.869999988|          5.32|2012-01-03 09:45:00|\n",
      "|1325600520|5.14|5.14|5.14| 5.14|       0.68|      3.4952|          5.14|2012-01-03 12:22:00|\n",
      "|1325602440|5.26|5.26|5.26| 5.26|29.31939163|154.21999997|          5.26|2012-01-03 12:54:00|\n",
      "|1325604720|5.29|5.29|5.29| 5.29|29.30245747|155.01000002|          5.29|2012-01-03 13:32:00|\n",
      "|1325610600|5.29|5.29|5.29| 5.29|11.28544423|59.699999977|          5.29|2012-01-03 15:10:00|\n",
      "|1325610840|5.14|5.14|5.14| 5.14|       0.02|      0.1028|          5.14|2012-01-03 15:14:00|\n",
      "|1325611560|5.29|5.29|5.29| 5.29|       11.0|       58.19|          5.29|2012-01-03 15:26:00|\n",
      "|1325611620|5.29|5.29|5.29| 5.29| 4.01081466|21.217209551|          5.29|2012-01-03 15:27:00|\n",
      "|1325650620|4.93|4.93|4.93| 4.93|       2.32|     11.4376|          4.93|2012-01-04 02:17:00|\n",
      "|1325653500|4.93|4.93|4.93| 4.93|       9.68|     47.7224|          4.93|2012-01-04 03:05:00|\n",
      "|1325680860|5.19|5.19|5.19| 5.19|  2.6416185|13.710000015|          5.19|2012-01-04 10:41:00|\n",
      "|1325681820|5.19|5.19|5.19| 5.19| 8.72447013|45.279999975|          5.19|2012-01-04 10:57:00|\n",
      "+----------+----+----+----+-----+-----------+------------+--------------+-------------------+\n",
      "only showing top 20 rows\n",
      "\n"
     ]
    }
   ],
   "source": [
    "df_bitcoin.show()"
   ]
  },
  {
   "cell_type": "code",
   "execution_count": 25,
   "metadata": {},
   "outputs": [],
   "source": [
    "# Splitting the dataframe extracting the date\n",
    "df_date = df_bitcoin.withColumn(\"date\", split(col(\"dateTime\"),\" \").getItem(0))"
   ]
  },
  {
   "cell_type": "code",
   "execution_count": 26,
   "metadata": {},
   "outputs": [
    {
     "data": {
      "text/plain": [
       "pyspark.sql.dataframe.DataFrame"
      ]
     },
     "execution_count": 26,
     "metadata": {},
     "output_type": "execute_result"
    }
   ],
   "source": [
    "type(df_date)"
   ]
  },
  {
   "cell_type": "code",
   "execution_count": 27,
   "metadata": {},
   "outputs": [],
   "source": [
    "# Extracting the time\n",
    "df_date = df_date.withColumn(\"time\", split(col(\"dateTime\"),\" \").getItem(1))"
   ]
  },
  {
   "cell_type": "code",
   "execution_count": 28,
   "metadata": {},
   "outputs": [
    {
     "name": "stdout",
     "output_type": "stream",
     "text": [
      "root\n",
      " |-- Timestamp: integer (nullable = true)\n",
      " |-- Open: double (nullable = true)\n",
      " |-- High: double (nullable = true)\n",
      " |-- Low: double (nullable = true)\n",
      " |-- Close: double (nullable = true)\n",
      " |-- VolBTC: double (nullable = true)\n",
      " |-- VolCurrency: double (nullable = true)\n",
      " |-- Weighted_Price: double (nullable = true)\n",
      " |-- dateTime: string (nullable = true)\n",
      " |-- date: string (nullable = true)\n",
      " |-- time: string (nullable = true)\n",
      "\n"
     ]
    }
   ],
   "source": [
    "# Schema\n",
    "df_date.printSchema()"
   ]
  },
  {
   "cell_type": "code",
   "execution_count": 29,
   "metadata": {},
   "outputs": [
    {
     "name": "stdout",
     "output_type": "stream",
     "text": [
      "+----------+----+----+----+-----+-----------+------------+--------------+-------------------+----------+--------+\n",
      "| Timestamp|Open|High| Low|Close|     VolBTC| VolCurrency|Weighted_Price|           dateTime|      date|    time|\n",
      "+----------+----+----+----+-----+-----------+------------+--------------+-------------------+----------+--------+\n",
      "|1325317920|4.39|4.39|4.39| 4.39| 0.45558087|2.0000000193|          4.39|2011-12-31 05:52:00|2011-12-31|05:52:00|\n",
      "|1325346600|4.39|4.39|4.39| 4.39|       48.0|      210.72|          4.39|2011-12-31 13:50:00|2011-12-31|13:50:00|\n",
      "|1325350740| 4.5|4.57| 4.5| 4.57|37.86229723|171.38033753|  4.5264114983|2011-12-31 14:59:00|2011-12-31|14:59:00|\n",
      "|1325350800|4.58|4.58|4.58| 4.58|        9.0|       41.22|          4.58|2011-12-31 15:00:00|2011-12-31|15:00:00|\n",
      "|1325391360|4.58|4.58|4.58| 4.58|      1.502|     6.87916|          4.58|2012-01-01 02:16:00|2012-01-01|02:16:00|\n",
      "|1325431680|4.84|4.84|4.84| 4.84|       10.0|        48.4|          4.84|2012-01-01 13:28:00|2012-01-01|13:28:00|\n",
      "|1325457900| 5.0| 5.0| 5.0|  5.0|       10.1|        50.5|           5.0|2012-01-01 20:45:00|2012-01-01|20:45:00|\n",
      "|1325534640| 5.0| 5.0| 5.0|  5.0|     19.048|       95.24|           5.0|2012-01-02 18:04:00|2012-01-02|18:04:00|\n",
      "|1325591100|5.32|5.32|5.32| 5.32| 2.41917293|12.869999988|          5.32|2012-01-03 09:45:00|2012-01-03|09:45:00|\n",
      "|1325600520|5.14|5.14|5.14| 5.14|       0.68|      3.4952|          5.14|2012-01-03 12:22:00|2012-01-03|12:22:00|\n",
      "|1325602440|5.26|5.26|5.26| 5.26|29.31939163|154.21999997|          5.26|2012-01-03 12:54:00|2012-01-03|12:54:00|\n",
      "|1325604720|5.29|5.29|5.29| 5.29|29.30245747|155.01000002|          5.29|2012-01-03 13:32:00|2012-01-03|13:32:00|\n",
      "|1325610600|5.29|5.29|5.29| 5.29|11.28544423|59.699999977|          5.29|2012-01-03 15:10:00|2012-01-03|15:10:00|\n",
      "|1325610840|5.14|5.14|5.14| 5.14|       0.02|      0.1028|          5.14|2012-01-03 15:14:00|2012-01-03|15:14:00|\n",
      "|1325611560|5.29|5.29|5.29| 5.29|       11.0|       58.19|          5.29|2012-01-03 15:26:00|2012-01-03|15:26:00|\n",
      "|1325611620|5.29|5.29|5.29| 5.29| 4.01081466|21.217209551|          5.29|2012-01-03 15:27:00|2012-01-03|15:27:00|\n",
      "|1325650620|4.93|4.93|4.93| 4.93|       2.32|     11.4376|          4.93|2012-01-04 02:17:00|2012-01-04|02:17:00|\n",
      "|1325653500|4.93|4.93|4.93| 4.93|       9.68|     47.7224|          4.93|2012-01-04 03:05:00|2012-01-04|03:05:00|\n",
      "|1325680860|5.19|5.19|5.19| 5.19|  2.6416185|13.710000015|          5.19|2012-01-04 10:41:00|2012-01-04|10:41:00|\n",
      "|1325681820|5.19|5.19|5.19| 5.19| 8.72447013|45.279999975|          5.19|2012-01-04 10:57:00|2012-01-04|10:57:00|\n",
      "+----------+----+----+----+-----+-----------+------------+--------------+-------------------+----------+--------+\n",
      "only showing top 20 rows\n",
      "\n"
     ]
    }
   ],
   "source": [
    "df_date.show()"
   ]
  },
  {
   "cell_type": "code",
   "execution_count": 30,
   "metadata": {
    "id": "G_YvoMKEEN35"
   },
   "outputs": [],
   "source": [
    "# Extracting the hour\n",
    "df_date_hour = df_date.withColumn(\"hour\", split(col(\"time\"),\":\").getItem(0))"
   ]
  },
  {
   "cell_type": "code",
   "execution_count": 31,
   "metadata": {},
   "outputs": [
    {
     "name": "stdout",
     "output_type": "stream",
     "text": [
      "root\n",
      " |-- Timestamp: integer (nullable = true)\n",
      " |-- Open: double (nullable = true)\n",
      " |-- High: double (nullable = true)\n",
      " |-- Low: double (nullable = true)\n",
      " |-- Close: double (nullable = true)\n",
      " |-- VolBTC: double (nullable = true)\n",
      " |-- VolCurrency: double (nullable = true)\n",
      " |-- Weighted_Price: double (nullable = true)\n",
      " |-- dateTime: string (nullable = true)\n",
      " |-- date: string (nullable = true)\n",
      " |-- time: string (nullable = true)\n",
      " |-- hour: string (nullable = true)\n",
      "\n"
     ]
    }
   ],
   "source": [
    "df_date_hour.printSchema()"
   ]
  },
  {
   "cell_type": "code",
   "execution_count": 32,
   "metadata": {},
   "outputs": [
    {
     "name": "stdout",
     "output_type": "stream",
     "text": [
      "+----------+----+----+----+-----+-----------+------------+--------------+-------------------+----------+--------+----+\n",
      "| Timestamp|Open|High| Low|Close|     VolBTC| VolCurrency|Weighted_Price|           dateTime|      date|    time|hour|\n",
      "+----------+----+----+----+-----+-----------+------------+--------------+-------------------+----------+--------+----+\n",
      "|1325317920|4.39|4.39|4.39| 4.39| 0.45558087|2.0000000193|          4.39|2011-12-31 05:52:00|2011-12-31|05:52:00|  05|\n",
      "|1325346600|4.39|4.39|4.39| 4.39|       48.0|      210.72|          4.39|2011-12-31 13:50:00|2011-12-31|13:50:00|  13|\n",
      "|1325350740| 4.5|4.57| 4.5| 4.57|37.86229723|171.38033753|  4.5264114983|2011-12-31 14:59:00|2011-12-31|14:59:00|  14|\n",
      "|1325350800|4.58|4.58|4.58| 4.58|        9.0|       41.22|          4.58|2011-12-31 15:00:00|2011-12-31|15:00:00|  15|\n",
      "|1325391360|4.58|4.58|4.58| 4.58|      1.502|     6.87916|          4.58|2012-01-01 02:16:00|2012-01-01|02:16:00|  02|\n",
      "|1325431680|4.84|4.84|4.84| 4.84|       10.0|        48.4|          4.84|2012-01-01 13:28:00|2012-01-01|13:28:00|  13|\n",
      "|1325457900| 5.0| 5.0| 5.0|  5.0|       10.1|        50.5|           5.0|2012-01-01 20:45:00|2012-01-01|20:45:00|  20|\n",
      "|1325534640| 5.0| 5.0| 5.0|  5.0|     19.048|       95.24|           5.0|2012-01-02 18:04:00|2012-01-02|18:04:00|  18|\n",
      "|1325591100|5.32|5.32|5.32| 5.32| 2.41917293|12.869999988|          5.32|2012-01-03 09:45:00|2012-01-03|09:45:00|  09|\n",
      "|1325600520|5.14|5.14|5.14| 5.14|       0.68|      3.4952|          5.14|2012-01-03 12:22:00|2012-01-03|12:22:00|  12|\n",
      "|1325602440|5.26|5.26|5.26| 5.26|29.31939163|154.21999997|          5.26|2012-01-03 12:54:00|2012-01-03|12:54:00|  12|\n",
      "|1325604720|5.29|5.29|5.29| 5.29|29.30245747|155.01000002|          5.29|2012-01-03 13:32:00|2012-01-03|13:32:00|  13|\n",
      "|1325610600|5.29|5.29|5.29| 5.29|11.28544423|59.699999977|          5.29|2012-01-03 15:10:00|2012-01-03|15:10:00|  15|\n",
      "|1325610840|5.14|5.14|5.14| 5.14|       0.02|      0.1028|          5.14|2012-01-03 15:14:00|2012-01-03|15:14:00|  15|\n",
      "|1325611560|5.29|5.29|5.29| 5.29|       11.0|       58.19|          5.29|2012-01-03 15:26:00|2012-01-03|15:26:00|  15|\n",
      "|1325611620|5.29|5.29|5.29| 5.29| 4.01081466|21.217209551|          5.29|2012-01-03 15:27:00|2012-01-03|15:27:00|  15|\n",
      "|1325650620|4.93|4.93|4.93| 4.93|       2.32|     11.4376|          4.93|2012-01-04 02:17:00|2012-01-04|02:17:00|  02|\n",
      "|1325653500|4.93|4.93|4.93| 4.93|       9.68|     47.7224|          4.93|2012-01-04 03:05:00|2012-01-04|03:05:00|  03|\n",
      "|1325680860|5.19|5.19|5.19| 5.19|  2.6416185|13.710000015|          5.19|2012-01-04 10:41:00|2012-01-04|10:41:00|  10|\n",
      "|1325681820|5.19|5.19|5.19| 5.19| 8.72447013|45.279999975|          5.19|2012-01-04 10:57:00|2012-01-04|10:57:00|  10|\n",
      "+----------+----+----+----+-----+-----------+------------+--------------+-------------------+----------+--------+----+\n",
      "only showing top 20 rows\n",
      "\n"
     ]
    }
   ],
   "source": [
    "df_date_hour.show()"
   ]
  },
  {
   "cell_type": "code",
   "execution_count": 33,
   "metadata": {
    "id": "uh0C5gM-EaCO"
   },
   "outputs": [],
   "source": [
    "# Adjusting the date format to extract the day of the week\n",
    "df_date_hour = df_date_hour.withColumn(\"date\", df_date_hour[\"date\"].cast(DateType())).withColumn(\"hour\", df_date_hour[\"hour\"].cast(DoubleType())).withColumn(\"dateTime\", df_date_hour[\"dateTime\"].cast(DateType()))\n"
   ]
  },
  {
   "cell_type": "code",
   "execution_count": 34,
   "metadata": {},
   "outputs": [
    {
     "name": "stdout",
     "output_type": "stream",
     "text": [
      "+----------+----+----+----+-----+-----------+------------+--------------+----------+----------+--------+----+\n",
      "| Timestamp|Open|High| Low|Close|     VolBTC| VolCurrency|Weighted_Price|  dateTime|      date|    time|hour|\n",
      "+----------+----+----+----+-----+-----------+------------+--------------+----------+----------+--------+----+\n",
      "|1325317920|4.39|4.39|4.39| 4.39| 0.45558087|2.0000000193|          4.39|2011-12-31|2011-12-31|05:52:00| 5.0|\n",
      "|1325346600|4.39|4.39|4.39| 4.39|       48.0|      210.72|          4.39|2011-12-31|2011-12-31|13:50:00|13.0|\n",
      "|1325350740| 4.5|4.57| 4.5| 4.57|37.86229723|171.38033753|  4.5264114983|2011-12-31|2011-12-31|14:59:00|14.0|\n",
      "|1325350800|4.58|4.58|4.58| 4.58|        9.0|       41.22|          4.58|2011-12-31|2011-12-31|15:00:00|15.0|\n",
      "|1325391360|4.58|4.58|4.58| 4.58|      1.502|     6.87916|          4.58|2012-01-01|2012-01-01|02:16:00| 2.0|\n",
      "|1325431680|4.84|4.84|4.84| 4.84|       10.0|        48.4|          4.84|2012-01-01|2012-01-01|13:28:00|13.0|\n",
      "|1325457900| 5.0| 5.0| 5.0|  5.0|       10.1|        50.5|           5.0|2012-01-01|2012-01-01|20:45:00|20.0|\n",
      "|1325534640| 5.0| 5.0| 5.0|  5.0|     19.048|       95.24|           5.0|2012-01-02|2012-01-02|18:04:00|18.0|\n",
      "|1325591100|5.32|5.32|5.32| 5.32| 2.41917293|12.869999988|          5.32|2012-01-03|2012-01-03|09:45:00| 9.0|\n",
      "|1325600520|5.14|5.14|5.14| 5.14|       0.68|      3.4952|          5.14|2012-01-03|2012-01-03|12:22:00|12.0|\n",
      "|1325602440|5.26|5.26|5.26| 5.26|29.31939163|154.21999997|          5.26|2012-01-03|2012-01-03|12:54:00|12.0|\n",
      "|1325604720|5.29|5.29|5.29| 5.29|29.30245747|155.01000002|          5.29|2012-01-03|2012-01-03|13:32:00|13.0|\n",
      "|1325610600|5.29|5.29|5.29| 5.29|11.28544423|59.699999977|          5.29|2012-01-03|2012-01-03|15:10:00|15.0|\n",
      "|1325610840|5.14|5.14|5.14| 5.14|       0.02|      0.1028|          5.14|2012-01-03|2012-01-03|15:14:00|15.0|\n",
      "|1325611560|5.29|5.29|5.29| 5.29|       11.0|       58.19|          5.29|2012-01-03|2012-01-03|15:26:00|15.0|\n",
      "|1325611620|5.29|5.29|5.29| 5.29| 4.01081466|21.217209551|          5.29|2012-01-03|2012-01-03|15:27:00|15.0|\n",
      "|1325650620|4.93|4.93|4.93| 4.93|       2.32|     11.4376|          4.93|2012-01-04|2012-01-04|02:17:00| 2.0|\n",
      "|1325653500|4.93|4.93|4.93| 4.93|       9.68|     47.7224|          4.93|2012-01-04|2012-01-04|03:05:00| 3.0|\n",
      "|1325680860|5.19|5.19|5.19| 5.19|  2.6416185|13.710000015|          5.19|2012-01-04|2012-01-04|10:41:00|10.0|\n",
      "|1325681820|5.19|5.19|5.19| 5.19| 8.72447013|45.279999975|          5.19|2012-01-04|2012-01-04|10:57:00|10.0|\n",
      "+----------+----+----+----+-----+-----------+------------+--------------+----------+----------+--------+----+\n",
      "only showing top 20 rows\n",
      "\n"
     ]
    }
   ],
   "source": [
    "df_date_hour.show()"
   ]
  },
  {
   "cell_type": "code",
   "execution_count": 35,
   "metadata": {},
   "outputs": [],
   "source": [
    "# Extracting the day of the week\n",
    "df_date_hour = df_date_hour.withColumn('day_of_week', dayofweek(df_date_hour.date))"
   ]
  },
  {
   "cell_type": "code",
   "execution_count": 36,
   "metadata": {},
   "outputs": [
    {
     "name": "stdout",
     "output_type": "stream",
     "text": [
      "root\n",
      " |-- Timestamp: integer (nullable = true)\n",
      " |-- Open: double (nullable = true)\n",
      " |-- High: double (nullable = true)\n",
      " |-- Low: double (nullable = true)\n",
      " |-- Close: double (nullable = true)\n",
      " |-- VolBTC: double (nullable = true)\n",
      " |-- VolCurrency: double (nullable = true)\n",
      " |-- Weighted_Price: double (nullable = true)\n",
      " |-- dateTime: date (nullable = true)\n",
      " |-- date: date (nullable = true)\n",
      " |-- time: string (nullable = true)\n",
      " |-- hour: double (nullable = true)\n",
      " |-- day_of_week: integer (nullable = true)\n",
      "\n"
     ]
    }
   ],
   "source": [
    "df_date_hour.printSchema()"
   ]
  },
  {
   "cell_type": "code",
   "execution_count": 37,
   "metadata": {
    "colab": {
     "base_uri": "https://localhost:8080/"
    },
    "id": "8kmhB2zCEcZN",
    "outputId": "701ae1e3-1176-4e94-d374-fde6d609452e"
   },
   "outputs": [],
   "source": [
    "# Extracting the year \n",
    "df_date_hour_year = df_date_hour.withColumn(\"year\", split(col(\"date\"),\"-\").getItem(0))"
   ]
  },
  {
   "cell_type": "code",
   "execution_count": 38,
   "metadata": {},
   "outputs": [
    {
     "name": "stdout",
     "output_type": "stream",
     "text": [
      "+----------+----+----+----+-----+-----------+------------+--------------+----------+----------+--------+----+-----------+----+\n",
      "| Timestamp|Open|High| Low|Close|     VolBTC| VolCurrency|Weighted_Price|  dateTime|      date|    time|hour|day_of_week|year|\n",
      "+----------+----+----+----+-----+-----------+------------+--------------+----------+----------+--------+----+-----------+----+\n",
      "|1325317920|4.39|4.39|4.39| 4.39| 0.45558087|2.0000000193|          4.39|2011-12-31|2011-12-31|05:52:00| 5.0|          7|2011|\n",
      "|1325346600|4.39|4.39|4.39| 4.39|       48.0|      210.72|          4.39|2011-12-31|2011-12-31|13:50:00|13.0|          7|2011|\n",
      "|1325350740| 4.5|4.57| 4.5| 4.57|37.86229723|171.38033753|  4.5264114983|2011-12-31|2011-12-31|14:59:00|14.0|          7|2011|\n",
      "|1325350800|4.58|4.58|4.58| 4.58|        9.0|       41.22|          4.58|2011-12-31|2011-12-31|15:00:00|15.0|          7|2011|\n",
      "|1325391360|4.58|4.58|4.58| 4.58|      1.502|     6.87916|          4.58|2012-01-01|2012-01-01|02:16:00| 2.0|          1|2012|\n",
      "|1325431680|4.84|4.84|4.84| 4.84|       10.0|        48.4|          4.84|2012-01-01|2012-01-01|13:28:00|13.0|          1|2012|\n",
      "|1325457900| 5.0| 5.0| 5.0|  5.0|       10.1|        50.5|           5.0|2012-01-01|2012-01-01|20:45:00|20.0|          1|2012|\n",
      "|1325534640| 5.0| 5.0| 5.0|  5.0|     19.048|       95.24|           5.0|2012-01-02|2012-01-02|18:04:00|18.0|          2|2012|\n",
      "|1325591100|5.32|5.32|5.32| 5.32| 2.41917293|12.869999988|          5.32|2012-01-03|2012-01-03|09:45:00| 9.0|          3|2012|\n",
      "|1325600520|5.14|5.14|5.14| 5.14|       0.68|      3.4952|          5.14|2012-01-03|2012-01-03|12:22:00|12.0|          3|2012|\n",
      "|1325602440|5.26|5.26|5.26| 5.26|29.31939163|154.21999997|          5.26|2012-01-03|2012-01-03|12:54:00|12.0|          3|2012|\n",
      "|1325604720|5.29|5.29|5.29| 5.29|29.30245747|155.01000002|          5.29|2012-01-03|2012-01-03|13:32:00|13.0|          3|2012|\n",
      "|1325610600|5.29|5.29|5.29| 5.29|11.28544423|59.699999977|          5.29|2012-01-03|2012-01-03|15:10:00|15.0|          3|2012|\n",
      "|1325610840|5.14|5.14|5.14| 5.14|       0.02|      0.1028|          5.14|2012-01-03|2012-01-03|15:14:00|15.0|          3|2012|\n",
      "|1325611560|5.29|5.29|5.29| 5.29|       11.0|       58.19|          5.29|2012-01-03|2012-01-03|15:26:00|15.0|          3|2012|\n",
      "|1325611620|5.29|5.29|5.29| 5.29| 4.01081466|21.217209551|          5.29|2012-01-03|2012-01-03|15:27:00|15.0|          3|2012|\n",
      "|1325650620|4.93|4.93|4.93| 4.93|       2.32|     11.4376|          4.93|2012-01-04|2012-01-04|02:17:00| 2.0|          4|2012|\n",
      "|1325653500|4.93|4.93|4.93| 4.93|       9.68|     47.7224|          4.93|2012-01-04|2012-01-04|03:05:00| 3.0|          4|2012|\n",
      "|1325680860|5.19|5.19|5.19| 5.19|  2.6416185|13.710000015|          5.19|2012-01-04|2012-01-04|10:41:00|10.0|          4|2012|\n",
      "|1325681820|5.19|5.19|5.19| 5.19| 8.72447013|45.279999975|          5.19|2012-01-04|2012-01-04|10:57:00|10.0|          4|2012|\n",
      "+----------+----+----+----+-----+-----------+------------+--------------+----------+----------+--------+----+-----------+----+\n",
      "only showing top 20 rows\n",
      "\n"
     ]
    }
   ],
   "source": [
    "df_date_hour_year.show()"
   ]
  },
  {
   "cell_type": "code",
   "execution_count": 39,
   "metadata": {},
   "outputs": [
    {
     "data": {
      "text/plain": [
       "'\\n\\ndf_date_hour_year.createOrReplaceTempView(\\'df_filtered\\')\\n\\n\\nquery = \"\"\"\\n\\nSELECT *\\n\\nFROM df_filtered\\n\\nWHERE year IN (\\n\\nSELECT DISTINCT year\\n\\nFROM df_filtered\\n\\nORDER BY year DESC\\n\\nLIMIT 3\\n\\n)\\n\\n\"\"\"\\n\\n\\ndf_filtered = spark_session.sql(query)\\n\\n\\ndf_pandas = df_filtered.toPandas()\\n\\n\\n'"
      ]
     },
     "execution_count": 39,
     "metadata": {},
     "output_type": "execute_result"
    }
   ],
   "source": [
    "# If there is an error in the next cell, you can use this SQL function to use 3 years and reduce memory usage\n",
    "# Just remove the ''' at the beggining and end\n",
    "\n",
    "'''\n",
    "\n",
    "df_date_hour_year.createOrReplaceTempView('df_filtered')\n",
    "\n",
    "\n",
    "query = \"\"\"\n",
    "\n",
    "SELECT *\n",
    "\n",
    "FROM df_filtered\n",
    "\n",
    "WHERE year IN (\n",
    "\n",
    "SELECT DISTINCT year\n",
    "\n",
    "FROM df_filtered\n",
    "\n",
    "ORDER BY year DESC\n",
    "\n",
    "LIMIT 3\n",
    "\n",
    ")\n",
    "\n",
    "\"\"\"\n",
    "\n",
    "\n",
    "df_filtered = spark_session.sql(query)\n",
    "\n",
    "\n",
    "df_pandas = df_filtered.toPandas()\n",
    "\n",
    "\n",
    "'''"
   ]
  },
  {
   "cell_type": "code",
   "execution_count": 40,
   "metadata": {
    "id": "IfRDjht1EnRU"
   },
   "outputs": [],
   "source": [
    "# Converting the Spark dataframe to Pandas to facilitate exploratory analysis.\n",
    "df_pandas = df_date_hour_year.toPandas()"
   ]
  },
  {
   "cell_type": "code",
   "execution_count": 41,
   "metadata": {},
   "outputs": [
    {
     "data": {
      "text/plain": [
       "pandas.core.frame.DataFrame"
      ]
     },
     "execution_count": 41,
     "metadata": {},
     "output_type": "execute_result"
    }
   ],
   "source": [
    "type(df_pandas)"
   ]
  },
  {
   "cell_type": "code",
   "execution_count": 42,
   "metadata": {
    "id": "hPFeL6MqEzK1"
   },
   "outputs": [],
   "source": [
    "# Getting the individual values to use in the graphs\n",
    "hour = df_pandas[\"hour\"].values.tolist()\n",
    "weighted_price = df_pandas[\"Weighted_Price\"].values.tolist()\n",
    "volume_BTC = df_pandas[\"VolBTC\"].values.tolist()\n",
    "date_of_week = df_pandas[\"day_of_week\"].values.tolist()\n",
    "year = df_pandas[\"year\"].values.tolist()"
   ]
  },
  {
   "cell_type": "markdown",
   "metadata": {
    "id": "9tkmDU-nFaQ1"
   },
   "source": [
    "## Exploratory Analysis"
   ]
  },
  {
   "cell_type": "code",
   "execution_count": 43,
   "metadata": {
    "colab": {
     "base_uri": "https://localhost:8080/",
     "height": 798
    },
    "id": "TiQ9memLFU7o",
    "outputId": "4c3f0f7b-689c-4d0c-8b2e-8a7fd7c2bbc8"
   },
   "outputs": [
    {
     "data": {
      "text/plain": [
       "<AxesSubplot:>"
      ]
     },
     "execution_count": 43,
     "metadata": {},
     "output_type": "execute_result"
    },
    {
     "data": {
      "image/png": "[encoded data removed]",
      "text/plain": [
       "<Figure size 720x720 with 2 Axes>"
      ]
     },
     "metadata": {
      "needs_background": "light"
     },
     "output_type": "display_data"
    }
   ],
   "source": [
    "# Heatmap to visualize the correlation\n",
    "corr = df_pandas.corr()                                                # Calculate the coefficients\n",
    "f,ax = plt.subplots(figsize = (10, 10))                                # Create the plot area\n",
    "sns.heatmap(corr, annot = True, linewidths = .5, fmt = '.1f', ax = ax) # Create the graph in the plot area"
   ]
  },
  {
   "cell_type": "markdown",
   "metadata": {},
   "source": [
    "Ideally we want high correlation between the input variables and the output variable and low correlation between the input variables!    \n",
    "\n",
    "**Input Variable:** Weighted_Price"
   ]
  },
  {
   "cell_type": "code",
   "execution_count": 44,
   "metadata": {
    "colab": {
     "base_uri": "https://localhost:8080/",
     "height": 354
    },
    "id": "MyZiZ1TPFtwB",
    "outputId": "9a1813d5-8c59-4dbf-fe5d-72004b8228ef"
   },
   "outputs": [
    {
     "data": {
      "text/plain": [
       "<Figure size 864x360 with 0 Axes>"
      ]
     },
     "metadata": {},
     "output_type": "display_data"
    },
    {
     "data": {
      "image/png": "[encoded data removed]",
      "text/plain": [
       "<Figure size 432x288 with 1 Axes>"
      ]
     },
     "metadata": {},
     "output_type": "display_data"
    }
   ],
   "source": [
    "# Scatter Plot Bitcoin Volume x Currency Volume\n",
    "plt.figure(figsize = (12,5))\n",
    "sns.set(style = 'whitegrid')\n",
    "df_pandas.plot(kind = 'scatter', x = 'VolBTC', y = 'VolCurrency')\n",
    "plt.xlabel('Bitcoin Volume')            \n",
    "plt.ylabel('Currency Volume')\n",
    "plt.title('Scatter Plot Bitcoin Volume x Currency Volume') \n",
    "plt.show()"
   ]
  },
  {
   "cell_type": "code",
   "execution_count": 45,
   "metadata": {
    "colab": {
     "base_uri": "https://localhost:8080/",
     "height": 334
    },
    "id": "05VzSva7F2Fi",
    "outputId": "9d7f82da-2bfe-4eca-9477-549a722ba718"
   },
   "outputs": [
    {
     "data": {
      "image/png": "[encoded data removed]",
      "text/plain": [
       "<Figure size 1152x360 with 1 Axes>"
      ]
     },
     "metadata": {},
     "output_type": "display_data"
    }
   ],
   "source": [
    "# Line Plot Open x High \n",
    "plt.figure(figsize = (16,5))\n",
    "df_pandas.Open.plot(kind = 'line', \n",
    "                    color = 'r', \n",
    "                    label = 'Open', \n",
    "                    alpha = 0.5, \n",
    "                    linewidth = 5, \n",
    "                    grid = True, \n",
    "                    linestyle = ':')\n",
    "df_pandas.High.plot(color = 'g', \n",
    "                    label = 'High', \n",
    "                    linewidth = 1, \n",
    "                    alpha = 0.5, \n",
    "                    grid = True, \n",
    "                    linestyle = '-.')\n",
    "plt.legend(loc = 'upper left') \n",
    "plt.xlabel('Time')\n",
    "plt.ylabel('Quote')\n",
    "plt.title('Line Plot Open x High')\n",
    "plt.show()"
   ]
  },
  {
   "cell_type": "code",
   "execution_count": 46,
   "metadata": {
    "colab": {
     "base_uri": "https://localhost:8080/",
     "height": 285
    },
    "id": "JpvxQrWvGAeG",
    "outputId": "baf663e4-f16a-4c53-89eb-fc54d066fd1d"
   },
   "outputs": [
    {
     "data": {
      "text/plain": [
       "<AxesSubplot:ylabel='Frequency'>"
      ]
     },
     "execution_count": 46,
     "metadata": {},
     "output_type": "execute_result"
    },
    {
     "data": {
      "image/png": "[encoded data removed]",
      "text/plain": [
       "<Figure size 432x288 with 1 Axes>"
      ]
     },
     "metadata": {},
     "output_type": "display_data"
    }
   ],
   "source": [
    "# Opening quote histogram\n",
    "df_pandas.Open.plot(kind = 'hist', bins = 50)"
   ]
  },
  {
   "cell_type": "code",
   "execution_count": 47,
   "metadata": {
    "colab": {
     "base_uri": "https://localhost:8080/",
     "height": 316
    },
    "id": "ngLiJaa2GGdt",
    "outputId": "80f1d27e-2556-44cc-bac1-d2fa2ef06306"
   },
   "outputs": [
    {
     "data": {
      "image/png": "[encoded data removed]",
      "text/plain": [
       "<Figure size 432x288 with 1 Axes>"
      ]
     },
     "metadata": {},
     "output_type": "display_data"
    }
   ],
   "source": [
    "# Plot of weighted quote value (target variable) per hour\n",
    "plt.plot(hour, weighted_price , 'g*')\n",
    "plt.xlabel('Hour')            \n",
    "plt.ylabel('Weighted quote value')\n",
    "plt.title('Weighted quote value per hour') \n",
    "plt.show()"
   ]
  },
  {
   "cell_type": "code",
   "execution_count": 48,
   "metadata": {
    "colab": {
     "base_uri": "https://localhost:8080/",
     "height": 317
    },
    "id": "HxzKBxLWGSuX",
    "outputId": "180a771c-ee05-49ff-ca69-a79b1e879b3b"
   },
   "outputs": [
    {
     "data": {
      "image/png": "[encoded data removed]",
      "text/plain": [
       "<Figure size 432x288 with 1 Axes>"
      ]
     },
     "metadata": {},
     "output_type": "display_data"
    }
   ],
   "source": [
    "# Weighted quote value per week day\n",
    "plt.plot(date_of_week, weighted_price, 'b*')\n",
    "plt.xlabel('Week day')            \n",
    "plt.ylabel('Weighted quote value')\n",
    "plt.title('Weighted quote value per week day') \n",
    "plt.show()"
   ]
  },
  {
   "cell_type": "code",
   "execution_count": 49,
   "metadata": {
    "colab": {
     "base_uri": "https://localhost:8080/",
     "height": 316
    },
    "id": "WBeCmHNxGaLQ",
    "outputId": "979b0dc9-0817-495a-8552-25486d98f58d"
   },
   "outputs": [
    {
     "data": {
      "image/png": "[encoded data removed]",
      "text/plain": [
       "<Figure size 432x288 with 1 Axes>"
      ]
     },
     "metadata": {},
     "output_type": "display_data"
    }
   ],
   "source": [
    "# VolBTC per hour\n",
    "plt.plot(hour, volume_BTC, 'r*')\n",
    "plt.xlabel('Hour')            \n",
    "plt.ylabel('VolBTC')\n",
    "plt.title('VolBTC per hour') \n",
    "plt.show()"
   ]
  },
  {
   "cell_type": "code",
   "execution_count": 50,
   "metadata": {
    "colab": {
     "base_uri": "https://localhost:8080/",
     "height": 317
    },
    "id": "P0eF5351Gj-p",
    "outputId": "f5de0ac2-e6ea-4c2a-a794-3bb5bb666974"
   },
   "outputs": [
    {
     "data": {
      "image/png": "[encoded data removed]",
      "text/plain": [
       "<Figure size 432x288 with 1 Axes>"
      ]
     },
     "metadata": {},
     "output_type": "display_data"
    }
   ],
   "source": [
    "# VolBTC per week day\n",
    "plt.plot(date_of_week, volume_BTC, 'yo')\n",
    "plt.xlabel('Week day')            \n",
    "plt.ylabel('VolBTC')\n",
    "plt.title('VolBTC per week day') \n",
    "plt.show()"
   ]
  },
  {
   "cell_type": "code",
   "execution_count": 51,
   "metadata": {
    "colab": {
     "base_uri": "https://localhost:8080/",
     "height": 316
    },
    "id": "g5wgxlbRGt-_",
    "outputId": "430abea4-dff7-4d8c-a160-b11a73d7706d"
   },
   "outputs": [
    {
     "data": {
      "image/png": "[encoded data removed]",
      "text/plain": [
       "<Figure size 432x288 with 1 Axes>"
      ]
     },
     "metadata": {},
     "output_type": "display_data"
    }
   ],
   "source": [
    "# Weighted quote value per year\n",
    "plt.plot(year, weighted_price , 'm^')\n",
    "plt.xlabel('Year')            \n",
    "plt.ylabel('Weighted quote value')\n",
    "plt.title('Weighted quote value per year') \n",
    "plt.show()"
   ]
  },
  {
   "cell_type": "code",
   "execution_count": 52,
   "metadata": {
    "colab": {
     "base_uri": "https://localhost:8080/",
     "height": 316
    },
    "id": "erWh8_FdG2zE",
    "outputId": "d824beba-b50d-4193-8eaf-7f92e8052163"
   },
   "outputs": [
    {
     "data": {
      "image/png": "[encoded data removed]",
      "text/plain": [
       "<Figure size 432x288 with 1 Axes>"
      ]
     },
     "metadata": {},
     "output_type": "display_data"
    }
   ],
   "source": [
    "# Volume per year\n",
    "plt.plot(year, volume_BTC , 'kD')\n",
    "plt.xlabel('Year')            \n",
    "plt.ylabel('BTC volume')\n",
    "plt.title('BTC volume traded per year') \n",
    "plt.show()"
   ]
  },
  {
   "cell_type": "markdown",
   "metadata": {
    "id": "dRo5ze0IHEKj"
   },
   "source": [
    "## Attribute Engineering with PySpark"
   ]
  },
  {
   "cell_type": "code",
   "execution_count": 53,
   "metadata": {},
   "outputs": [
    {
     "name": "stdout",
     "output_type": "stream",
     "text": [
      "root\n",
      " |-- Timestamp: integer (nullable = true)\n",
      " |-- Open: double (nullable = true)\n",
      " |-- High: double (nullable = true)\n",
      " |-- Low: double (nullable = true)\n",
      " |-- Close: double (nullable = true)\n",
      " |-- VolBTC: double (nullable = true)\n",
      " |-- VolCurrency: double (nullable = true)\n",
      " |-- Weighted_Price: double (nullable = true)\n",
      " |-- dateTime: string (nullable = true)\n",
      "\n"
     ]
    }
   ],
   "source": [
    "df_bitcoin.printSchema()"
   ]
  },
  {
   "cell_type": "code",
   "execution_count": 54,
   "metadata": {},
   "outputs": [],
   "source": [
    "# Prepara o vetor de atributos\n",
    "# We will use \"open\" because generally there is a high volume of transactions\n",
    "# Pyspark needs the input variables to be in feature vector format to create the predictive model\n",
    "assembler = VectorAssembler(inputCols = ['Open', 'VolBTC', 'VolCurrency'], \n",
    "                            outputCol = \"features\")"
   ]
  },
  {
   "cell_type": "code",
   "execution_count": 55,
   "metadata": {},
   "outputs": [],
   "source": [
    "# Create the feature vector dataframe\n",
    "df_assembled = assembler.transform(df_bitcoin)"
   ]
  },
  {
   "cell_type": "code",
   "execution_count": 56,
   "metadata": {
    "colab": {
     "base_uri": "https://localhost:8080/"
    },
    "id": "StWTbF0qG9PO",
    "outputId": "d7a9d528-32ae-4d24-dcb3-95203e75e65f"
   },
   "outputs": [
    {
     "name": "stdout",
     "output_type": "stream",
     "text": [
      "+----------+----+----+----+-----+-----------+------------+--------------+-------------------+------------------------------+\n",
      "|Timestamp |Open|High|Low |Close|VolBTC     |VolCurrency |Weighted_Price|dateTime           |features                      |\n",
      "+----------+----+----+----+-----+-----------+------------+--------------+-------------------+------------------------------+\n",
      "|1325317920|4.39|4.39|4.39|4.39 |0.45558087 |2.0000000193|4.39          |2011-12-31 05:52:00|[4.39,0.45558087,2.0000000193]|\n",
      "|1325346600|4.39|4.39|4.39|4.39 |48.0       |210.72      |4.39          |2011-12-31 13:50:00|[4.39,48.0,210.72]            |\n",
      "|1325350740|4.5 |4.57|4.5 |4.57 |37.86229723|171.38033753|4.5264114983  |2011-12-31 14:59:00|[4.5,37.86229723,171.38033753]|\n",
      "|1325350800|4.58|4.58|4.58|4.58 |9.0        |41.22       |4.58          |2011-12-31 15:00:00|[4.58,9.0,41.22]              |\n",
      "|1325391360|4.58|4.58|4.58|4.58 |1.502      |6.87916     |4.58          |2012-01-01 02:16:00|[4.58,1.502,6.87916]          |\n",
      "|1325431680|4.84|4.84|4.84|4.84 |10.0       |48.4        |4.84          |2012-01-01 13:28:00|[4.84,10.0,48.4]              |\n",
      "|1325457900|5.0 |5.0 |5.0 |5.0  |10.1       |50.5        |5.0           |2012-01-01 20:45:00|[5.0,10.1,50.5]               |\n",
      "|1325534640|5.0 |5.0 |5.0 |5.0  |19.048     |95.24       |5.0           |2012-01-02 18:04:00|[5.0,19.048,95.24]            |\n",
      "|1325591100|5.32|5.32|5.32|5.32 |2.41917293 |12.869999988|5.32          |2012-01-03 09:45:00|[5.32,2.41917293,12.869999988]|\n",
      "|1325600520|5.14|5.14|5.14|5.14 |0.68       |3.4952      |5.14          |2012-01-03 12:22:00|[5.14,0.68,3.4952]            |\n",
      "+----------+----+----+----+-----+-----------+------------+--------------+-------------------+------------------------------+\n",
      "only showing top 10 rows\n",
      "\n"
     ]
    }
   ],
   "source": [
    "df_assembled.show(10, truncate = False)"
   ]
  },
  {
   "cell_type": "markdown",
   "metadata": {
    "id": "nm_lbag4Q2z0"
   },
   "source": [
    "## Normalization"
   ]
  },
  {
   "cell_type": "code",
   "execution_count": 57,
   "metadata": {
    "id": "iu3u0U77RD4e"
   },
   "outputs": [],
   "source": [
    "# Splitting into training and testing data\n",
    "training_data, test_data = df_assembled.randomSplit([.7,.3], seed = rnd_seed)"
   ]
  },
  {
   "cell_type": "code",
   "execution_count": 58,
   "metadata": {},
   "outputs": [
    {
     "data": {
      "text/plain": [
       "pyspark.sql.dataframe.DataFrame"
      ]
     },
     "execution_count": 58,
     "metadata": {},
     "output_type": "execute_result"
    }
   ],
   "source": [
    "type(training_data)"
   ]
  },
  {
   "cell_type": "code",
   "execution_count": 59,
   "metadata": {},
   "outputs": [],
   "source": [
    "# Creates scaler\n",
    "scaler = MinMaxScaler(inputCol = \"features\", outputCol = \"scaled_features\")"
   ]
  },
  {
   "cell_type": "code",
   "execution_count": 60,
   "metadata": {},
   "outputs": [],
   "source": [
    "# Fit training data\n",
    "scalerModel = scaler.fit(training_data)"
   ]
  },
  {
   "cell_type": "code",
   "execution_count": 61,
   "metadata": {},
   "outputs": [],
   "source": [
    "# Fit and transform training data\n",
    "training_data_scaled = scalerModel.transform(training_data)"
   ]
  },
  {
   "cell_type": "code",
   "execution_count": 62,
   "metadata": {},
   "outputs": [],
   "source": [
    "# Transform testing data\n",
    "test_data_scaled = scalerModel.transform(test_data)"
   ]
  },
  {
   "cell_type": "code",
   "execution_count": 63,
   "metadata": {},
   "outputs": [
    {
     "name": "stdout",
     "output_type": "stream",
     "text": [
      "+-------------------------------+------------------------------------------------------------------+\n",
      "|features                       |scaled_features                                                   |\n",
      "+-------------------------------+------------------------------------------------------------------+\n",
      "|[4.39,48.0,210.72]             |[9.557729822093386E-6,0.011673503471190906,1.8335460613525925E-5] |\n",
      "|[4.5,37.86229723,171.38033753] |[1.1339679449941311E-5,0.00920803454461806,1.4912383393669768E-5] |\n",
      "|[4.58,9.0,41.22]               |[1.263564281564889E-5,0.0021887819008482947,3.58669175441125E-6]  |\n",
      "|[4.84,10.0,48.4]               |[1.6847523754198516E-5,0.0024319798898314385,4.211447863015635E-6]|\n",
      "|[5.0,10.1,50.5]                |[1.9439450485613674E-5,0.002456299688729753,4.3941759727745785E-6]|\n",
      "|[5.14,0.68,3.4952]             |[2.170738637560193E-5,1.6537463250853785E-4,3.041291853473605E-7] |\n",
      "|[5.26,29.31939163,154.21999997]|[2.36513314241633E-5,0.00713041708262522,1.3419204324543965E-5]   |\n",
      "|[5.14,0.02,0.1028]             |[2.170738637560193E-5,4.863959779662877E-6,8.94497603962825E-9]   |\n",
      "|[5.29,11.0,58.19]              |[2.4137317686303644E-5,0.0026751778788145827,5.063308908034707E-6]|\n",
      "|[5.29,4.01081466,21.217209551] |[2.4137317686303644E-5,9.75422059496112E-4,1.8461812360064852E-6] |\n",
      "+-------------------------------+------------------------------------------------------------------+\n",
      "only showing top 10 rows\n",
      "\n"
     ]
    }
   ],
   "source": [
    "training_data_scaled.select(\"features\", \"scaled_features\").show(10, truncate = False)"
   ]
  },
  {
   "cell_type": "code",
   "execution_count": 64,
   "metadata": {
    "colab": {
     "base_uri": "https://localhost:8080/"
    },
    "id": "fNPuY44AQ096",
    "outputId": "4d210d17-5010-4a0f-d062-753aa88f9af3"
   },
   "outputs": [
    {
     "data": {
      "text/plain": [
       "['Timestamp',\n",
       " 'Open',\n",
       " 'High',\n",
       " 'Low',\n",
       " 'Close',\n",
       " 'VolBTC',\n",
       " 'VolCurrency',\n",
       " 'Weighted_Price',\n",
       " 'dateTime',\n",
       " 'features',\n",
       " 'scaled_features']"
      ]
     },
     "execution_count": 64,
     "metadata": {},
     "output_type": "execute_result"
    }
   ],
   "source": [
    "training_data_scaled.columns"
   ]
  },
  {
   "cell_type": "markdown",
   "metadata": {},
   "source": [
    "## Machine Learning"
   ]
  },
  {
   "cell_type": "code",
   "execution_count": 65,
   "metadata": {
    "id": "YA1ZyOJ3RGVJ"
   },
   "outputs": [],
   "source": [
    "# Regression model\n",
    "model_lr_v1 = (LinearRegression(featuresCol = 'scaled_features',      # Input variables\n",
    "                                labelCol = \"Weighted_Price\",          # Output variable\n",
    "                                predictionCol = 'Predicted_price',    # Prediction column\n",
    "                                maxIter = 100,                        # Maximum number of iterations\n",
    "                                regParam = 0.3,                       # Regression parameter\n",
    "                                elasticNetParam = 0.8,                # Model regularization to avoid overfitting\n",
    "                                standardization = False))             # Data already standardized "
   ]
  },
  {
   "cell_type": "code",
   "execution_count": 66,
   "metadata": {
    "id": "yPRnllMPRMRv"
   },
   "outputs": [],
   "source": [
    "# Train the model\n",
    "model_v1 = model_lr_v1.fit(training_data_scaled)"
   ]
  },
  {
   "cell_type": "code",
   "execution_count": 67,
   "metadata": {},
   "outputs": [],
   "source": [
    "# Save the model\n",
    "# model_v1.write().overwrite().save(\"models/model_v1\")"
   ]
  },
  {
   "cell_type": "markdown",
   "metadata": {},
   "source": [
    "## Model Evaluation"
   ]
  },
  {
   "cell_type": "code",
   "execution_count": 68,
   "metadata": {},
   "outputs": [],
   "source": [
    "# Previsões com dados de teste\n",
    "predictions_v1 = model_v1.transform(test_data_scaled)"
   ]
  },
  {
   "cell_type": "code",
   "execution_count": 69,
   "metadata": {
    "colab": {
     "base_uri": "https://localhost:8080/"
    },
    "id": "1kbl3LPYQs1F",
    "outputId": "dc44635b-4eff-4d47-b293-d771c894d401"
   },
   "outputs": [
    {
     "name": "stdout",
     "output_type": "stream",
     "text": [
      "+-----------------+--------------+\n",
      "|  Predicted_price|Weighted_Price|\n",
      "+-----------------+--------------+\n",
      "|7.452551600540269|          4.39|\n",
      "|7.642451952582102|          4.58|\n",
      "|8.062231678148258|           5.0|\n",
      "|8.382063850008189|          5.32|\n",
      "| 8.35207958389632|          5.29|\n",
      "| 8.35207958389632|          5.29|\n",
      "|8.252132030190092|          5.19|\n",
      "| 8.42204287149068|  5.3604618117|\n",
      "|8.811838330944967|   5.777027027|\n",
      "|9.061707215210538|           6.0|\n",
      "+-----------------+--------------+\n",
      "only showing top 10 rows\n",
      "\n"
     ]
    }
   ],
   "source": [
    "# Seleciona as colunas\n",
    "pred_data_v1 = predictions_v1.select(\"Predicted_price\", \"Weighted_Price\").show(10)"
   ]
  },
  {
   "cell_type": "code",
   "execution_count": 70,
   "metadata": {
    "colab": {
     "base_uri": "https://localhost:8080/"
    },
    "id": "CyegPQDYUgpS",
    "outputId": "e975ba51-f7d4-4a0e-ebc2-5dcf19bfdaaf"
   },
   "outputs": [
    {
     "name": "stdout",
     "output_type": "stream",
     "text": [
      "Mean Absolute Error (MAE): 5.021578949826644\n"
     ]
    }
   ],
   "source": [
    "# Mean Absolute Error\n",
    "print(\"Mean Absolute Error (MAE): {0}\".format(model_v1.summary.meanAbsoluteError))"
   ]
  },
  {
   "cell_type": "code",
   "execution_count": 71,
   "metadata": {},
   "outputs": [],
   "source": [
    "# Create an evaluator for the regression model\n",
    "evaluator = RegressionEvaluator(labelCol = \"Weighted_Price\", \n",
    "                                predictionCol = \"Predicted_price\", \n",
    "                                metricName = \"rmse\")"
   ]
  },
  {
   "cell_type": "code",
   "execution_count": 72,
   "metadata": {
    "colab": {
     "base_uri": "https://localhost:8080/"
    },
    "id": "U8P-5aiTRlEQ",
    "outputId": "816db6a9-fefc-4e24-e18e-db526d2877a9"
   },
   "outputs": [
    {
     "name": "stdout",
     "output_type": "stream",
     "text": [
      "Root Mean Squared Error (RMSE): 11.3089\n"
     ]
    }
   ],
   "source": [
    "# Apply the evaluator\n",
    "rmse_v1 = evaluator.evaluate(predictions_v1)\n",
    "print(\"Root Mean Squared Error (RMSE): %g\" % rmse_v1)"
   ]
  },
  {
   "cell_type": "code",
   "execution_count": 73,
   "metadata": {},
   "outputs": [],
   "source": [
    "# Extract the predictions\n",
    "pred_results_v1 = model_v1.evaluate(test_data_scaled)"
   ]
  },
  {
   "cell_type": "code",
   "execution_count": 74,
   "metadata": {},
   "outputs": [],
   "source": [
    "# Real Y values being converted to Pandas format\n",
    "Y = pred_results_v1.predictions.select('Weighted_Price').toPandas()"
   ]
  },
  {
   "cell_type": "code",
   "execution_count": 75,
   "metadata": {},
   "outputs": [],
   "source": [
    "# Predicted Y values being converted to Pandas format\n",
    "_Y = pred_results_v1.predictions.select(\"Predicted_price\").toPandas()"
   ]
  },
  {
   "cell_type": "code",
   "execution_count": 76,
   "metadata": {
    "colab": {
     "base_uri": "https://localhost:8080/",
     "height": 375
    },
    "id": "OpQ2cQD7S4fy",
    "outputId": "98d34558-a74c-4017-8a94-df98eeca6033"
   },
   "outputs": [
    {
     "data": {
      "text/plain": [
       "<seaborn.axisgrid.FacetGrid at 0x1ee8dbe6be0>"
      ]
     },
     "execution_count": 76,
     "metadata": {},
     "output_type": "execute_result"
    },
    {
     "data": {
      "image/png": "[encoded data removed]",
      "text/plain": [
       "<Figure size 477.35x360 with 1 Axes>"
      ]
     },
     "metadata": {},
     "output_type": "display_data"
    },
    {
     "data": {
      "image/png": "[encoded data removed]",
      "text/plain": [
       "<Figure size 476.475x360 with 1 Axes>"
      ]
     },
     "metadata": {},
     "output_type": "display_data"
    }
   ],
   "source": [
    "# Distribution of real values x predicted values\n",
    "sns.set_style(\"dark\")\n",
    "ax1 = sns.displot(Y, color = \"r\", label = \"Real Values\")\n",
    "sns.displot(_Y, color = \"b\", label = \"Predicted values\")"
   ]
  },
  {
   "cell_type": "code",
   "execution_count": 77,
   "metadata": {
    "colab": {
     "base_uri": "https://localhost:8080/",
     "height": 498
    },
    "id": "jLEikiKxUEvt",
    "outputId": "b1056043-ba8e-4767-84a6-3afb76cd61d7"
   },
   "outputs": [
    {
     "data": {
      "text/plain": [
       "<matplotlib.legend.Legend at 0x1ee8dbd57f0>"
      ]
     },
     "execution_count": 77,
     "metadata": {},
     "output_type": "execute_result"
    },
    {
     "data": {
      "image/png": "[encoded data removed]",
      "text/plain": [
       "<Figure size 864x504 with 1 Axes>"
      ]
     },
     "metadata": {},
     "output_type": "display_data"
    }
   ],
   "source": [
    "# Plot of actual values x predicted values\n",
    "plt.figure(figsize = (12,7))\n",
    "plt.plot(Y, color = 'green', marker = '*', linestyle = 'dashed', label = 'Predicted Price')\n",
    "plt.plot(_Y, color = 'red', label = 'Weighted Price')\n",
    "plt.title('Model Result')\n",
    "plt.xlabel('Real Value')\n",
    "plt.ylabel('Predicted Value')\n",
    "plt.legend()"
   ]
  },
  {
   "cell_type": "markdown",
   "metadata": {},
   "source": [
    "## Predictions in Real Time"
   ]
  },
  {
   "cell_type": "code",
   "execution_count": 78,
   "metadata": {},
   "outputs": [],
   "source": [
    "# New data\n",
    "new_data = [[20546.29, 3422.57, 72403082.02], [21620.85, 3271.14, 71319207.5]]"
   ]
  },
  {
   "cell_type": "code",
   "execution_count": 79,
   "metadata": {},
   "outputs": [],
   "source": [
    "# Prepare the Pandas dataframe\n",
    "df_new_data = pd.DataFrame(new_data, columns = ['Open', 'VolBTC', 'VolCurrency'])"
   ]
  },
  {
   "cell_type": "code",
   "execution_count": 80,
   "metadata": {},
   "outputs": [
    {
     "data": {
      "text/html": [
       "<div>\n",
       "<style scoped>\n",
       "    .dataframe tbody tr th:only-of-type {\n",
       "        vertical-align: middle;\n",
       "    }\n",
       "\n",
       "    .dataframe tbody tr th {\n",
       "        vertical-align: top;\n",
       "    }\n",
       "\n",
       "    .dataframe thead th {\n",
       "        text-align: right;\n",
       "    }\n",
       "</style>\n",
       "<table border=\"1\" class=\"dataframe\">\n",
       "  <thead>\n",
       "    <tr style=\"text-align: right;\">\n",
       "      <th></th>\n",
       "      <th>Open</th>\n",
       "      <th>VolBTC</th>\n",
       "      <th>VolCurrency</th>\n",
       "    </tr>\n",
       "  </thead>\n",
       "  <tbody>\n",
       "    <tr>\n",
       "      <th>0</th>\n",
       "      <td>20546.29</td>\n",
       "      <td>3422.57</td>\n",
       "      <td>72403082.02</td>\n",
       "    </tr>\n",
       "    <tr>\n",
       "      <th>1</th>\n",
       "      <td>21620.85</td>\n",
       "      <td>3271.14</td>\n",
       "      <td>71319207.50</td>\n",
       "    </tr>\n",
       "  </tbody>\n",
       "</table>\n",
       "</div>"
      ],
      "text/plain": [
       "       Open   VolBTC  VolCurrency\n",
       "0  20546.29  3422.57  72403082.02\n",
       "1  21620.85  3271.14  71319207.50"
      ]
     },
     "execution_count": 80,
     "metadata": {},
     "output_type": "execute_result"
    }
   ],
   "source": [
    "df_new_data"
   ]
  },
  {
   "cell_type": "code",
   "execution_count": 81,
   "metadata": {},
   "outputs": [],
   "source": [
    "# Convert Pandas dataframe to Spark dataframe\n",
    "df_new_data_spark = spark_session.createDataFrame(df_new_data) "
   ]
  },
  {
   "cell_type": "code",
   "execution_count": 82,
   "metadata": {},
   "outputs": [
    {
     "name": "stdout",
     "output_type": "stream",
     "text": [
      "root\n",
      " |-- Open: double (nullable = true)\n",
      " |-- VolBTC: double (nullable = true)\n",
      " |-- VolCurrency: double (nullable = true)\n",
      "\n"
     ]
    }
   ],
   "source": [
    "# Schema\n",
    "df_new_data_spark.printSchema()"
   ]
  },
  {
   "cell_type": "code",
   "execution_count": 83,
   "metadata": {},
   "outputs": [
    {
     "name": "stdout",
     "output_type": "stream",
     "text": [
      "+--------+-------+-------------+\n",
      "|    Open| VolBTC|  VolCurrency|\n",
      "+--------+-------+-------------+\n",
      "|20546.29|3422.57|7.240308202E7|\n",
      "|21620.85|3271.14| 7.13192075E7|\n",
      "+--------+-------+-------------+\n",
      "\n"
     ]
    }
   ],
   "source": [
    "df_new_data_spark.show()"
   ]
  },
  {
   "cell_type": "code",
   "execution_count": 84,
   "metadata": {},
   "outputs": [],
   "source": [
    "# Create the attribute vector dataframe\n",
    "df_assembled = assembler.transform(df_new_data_spark)"
   ]
  },
  {
   "cell_type": "code",
   "execution_count": 85,
   "metadata": {},
   "outputs": [
    {
     "name": "stdout",
     "output_type": "stream",
     "text": [
      "+--------+-------+-------------+--------------------+\n",
      "|    Open| VolBTC|  VolCurrency|            features|\n",
      "+--------+-------+-------------+--------------------+\n",
      "|20546.29|3422.57|7.240308202E7|[20546.29,3422.57...|\n",
      "|21620.85|3271.14| 7.13192075E7|[21620.85,3271.14...|\n",
      "+--------+-------+-------------+--------------------+\n",
      "\n"
     ]
    }
   ],
   "source": [
    "df_assembled.show()"
   ]
  },
  {
   "cell_type": "code",
   "execution_count": 86,
   "metadata": {},
   "outputs": [],
   "source": [
    "# Normalize data\n",
    "df_assembled_scaled = scalerModel.transform(df_assembled)"
   ]
  },
  {
   "cell_type": "code",
   "execution_count": 87,
   "metadata": {},
   "outputs": [],
   "source": [
    "# Predictions with new data\n",
    "predictions = model_v1.transform(df_assembled_scaled)"
   ]
  },
  {
   "cell_type": "code",
   "execution_count": 88,
   "metadata": {},
   "outputs": [
    {
     "name": "stdout",
     "output_type": "stream",
     "text": [
      "+------------------+\n",
      "|   Predicted_price|\n",
      "+------------------+\n",
      "|20538.579086380156|\n",
      "|21612.575519485796|\n",
      "+------------------+\n",
      "\n"
     ]
    }
   ],
   "source": [
    "pred_data = predictions.select(\"Predicted_price\").show()"
   ]
  },
  {
   "cell_type": "code",
   "execution_count": 89,
   "metadata": {
    "id": "wOR_mZjfUWW3"
   },
   "outputs": [],
   "source": [
    "# Close the Spark session\n",
    "spark_session.stop()"
   ]
  },
  {
   "cell_type": "markdown",
   "metadata": {},
   "source": [
    "# Fim"
   ]
  }
 ],
 "metadata": {
  "colab": {
   "name": "BitCoinTrend.ipynb",
   "provenance": []
  },
  "kernelspec": {
   "display_name": "Python 3 (ipykernel)",
   "language": "python",
   "name": "python3"
  },
  "language_info": {
   "codemirror_mode": {
    "name": "ipython",
    "version": 3
   },
   "file_extension": ".py",
   "mimetype": "text/x-python",
   "name": "python",
   "nbconvert_exporter": "python",
   "pygments_lexer": "ipython3",
   "version": "3.9.7"
  }
 },
 "nbformat": 4,
 "nbformat_minor": 1
}
